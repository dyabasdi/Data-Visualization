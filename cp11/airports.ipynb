{
 "cells": [
  {
   "cell_type": "markdown",
   "metadata": {},
   "source": [
    "#### Airports Data"
   ]
  },
  {
   "cell_type": "code",
   "execution_count": 3,
   "metadata": {},
   "outputs": [],
   "source": [
    "import pandas as pd\n",
    "import altair as alt\n",
    "\n",
    "import plotly.express as px\n",
    "import plotly.graph_objects as go"
   ]
  },
  {
   "cell_type": "code",
   "execution_count": 6,
   "metadata": {},
   "outputs": [
    {
     "data": {
      "application/vnd.plotly.v1+json": {
       "config": {
        "plotlyServerURL": "https://plot.ly"
       },
       "data": [
        {
         "lat": {
          "bdata": "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",
          "dtype": "f8"
         },
         "lon": {
          "bdata": "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",
          "dtype": "f8"
         },
         "mode": "markers",
         "text": [
          "ABE",
          "ABI",
          "ABQ",
          "ABR",
          "ABY",
          "ACK",
          "ACT",
          "ACV",
          "ACY",
          "ADK",
          "ADQ",
          "AEX",
          "AGS",
          "AKN",
          "ALB",
          "ALO",
          "AMA",
          "ANC",
          "APN",
          "ASE",
          "ATL",
          "ATW",
          "AUS",
          "AVL",
          "AVP",
          "AZO",
          "BDL",
          "BET",
          "BFL",
          "BGM",
          "BGR",
          "BHM",
          "BIL",
          "BIS",
          "BJI",
          "BLI",
          "BMI",
          "BNA",
          "BOI",
          "BOS",
          "BPT",
          "BQK",
          "BQN",
          "BRD",
          "BRO",
          "BRW",
          "BTM",
          "BTR",
          "BTV",
          "BUF",
          "BUR",
          "BWI",
          "BZN",
          "CAE",
          "CAK",
          "CDC",
          "CDV",
          "CEC",
          "CHA",
          "CHO",
          "CHS",
          "CID",
          "CIU",
          "CLD",
          "CLE",
          "CLL",
          "CLT",
          "CMH",
          "CMI",
          "CMX",
          "CNY",
          "COD",
          "COS",
          "COU",
          "CPR",
          "CRP",
          "CRW",
          "CSG",
          "CVG",
          "CWA",
          "DAB",
          "DAL",
          "DAY",
          "DBQ",
          "DCA",
          "DEN",
          "DFW",
          "DHN",
          "DIK",
          "DLG",
          "DLH",
          "DRO",
          "DSM",
          "DTW",
          "DVL",
          "EAU",
          "ECP",
          "EGE",
          "EKO",
          "ELM",
          "ELP",
          "ERI",
          "ESC",
          "EUG",
          "EVV",
          "EWN",
          "EWR",
          "EYW",
          "FAI",
          "FAR",
          "FAT",
          "FAY",
          "FCA",
          "FLG",
          "FLL",
          "FNT",
          "FSD",
          "FSM",
          "FWA",
          "GCC",
          "GCK",
          "GEG",
          "GFK",
          "GGG",
          "GJT",
          "GNV",
          "GPT",
          "GRB",
          "GRI",
          "GRK",
          "GRR",
          "GSO",
          "GSP",
          "GST",
          "GTF",
          "GTR",
          "GUC",
          "GUM",
          "HDN",
          "HIB",
          "HLN",
          "HNL",
          "HOB",
          "HOU",
          "HPN",
          "HRL",
          "HSV",
          "HYA",
          "HYS",
          "IAD",
          "IAG",
          "IAH",
          "ICT",
          "IDA",
          "ILG",
          "ILM",
          "IMT",
          "IND",
          "INL",
          "ISN",
          "ISP",
          "ITH",
          "ITO",
          "JAC",
          "JAN",
          "JAX",
          "JFK",
          "JLN",
          "JMS",
          "JNU",
          "KOA",
          "KTN",
          "LAN",
          "LAR",
          "LAS",
          "LAW",
          "LAX",
          "LBB",
          "LBE",
          "LCH",
          "LEX",
          "LFT",
          "LGA",
          "LGB",
          "LIH",
          "LIT",
          "LNK",
          "LRD",
          "LSE",
          "LWS",
          "MAF",
          "MBS",
          "MCI",
          "MCO",
          "MDT",
          "MDW",
          "MEI",
          "MEM",
          "MFE",
          "MFR",
          "MGM",
          "MHK",
          "MHT",
          "MIA",
          "MKE",
          "MKG",
          "MLB",
          "MLI",
          "MLU",
          "MMH",
          "MOB",
          "MOT",
          "MQT",
          "MRY",
          "MSN",
          "MSO",
          "MSP",
          "MSY",
          "MTJ",
          "MVY",
          "MYR",
          "OAJ",
          "OAK",
          "OGG",
          "OKC",
          "OMA",
          "OME",
          "ONT",
          "ORD",
          "ORF",
          "ORH",
          "OTH",
          "OTZ",
          "PAH",
          "PBG",
          "PBI",
          "PDX",
          "PHF",
          "PHL",
          "PHX",
          "PIA",
          "PIB",
          "PIH",
          "PIT",
          "PLN",
          "PNS",
          "PPG",
          "PSC",
          "PSE",
          "PSG",
          "PSP",
          "PUB",
          "PVD",
          "PWM",
          "RAP",
          "RDD",
          "RDM",
          "RDU",
          "RHI",
          "RIC",
          "RKS",
          "RNO",
          "ROA",
          "ROC",
          "ROW",
          "RST",
          "RSW",
          "SAF",
          "SAN",
          "SAT",
          "SAV",
          "SBA",
          "SBN",
          "SBP",
          "SCC",
          "SCE",
          "SDF",
          "SEA",
          "SFO",
          "SGF",
          "SGU",
          "SHV",
          "SIT",
          "SJC",
          "SJT",
          "SJU",
          "SLC",
          "SMF",
          "SMX",
          "SNA",
          "SPI",
          "SPS",
          "SRQ",
          "STC",
          "STL",
          "STT",
          "STX",
          "SUN",
          "SUX",
          "SWF",
          "SYR",
          "TLH",
          "TOL",
          "TPA",
          "TRI",
          "TTN",
          "TUL",
          "TUS",
          "TVC",
          "TWF",
          "TXK",
          "TYR",
          "TYS",
          "UST",
          "VEL",
          "VLD",
          "VPS",
          "WRG",
          "WYS",
          "XNA",
          "YAK",
          "YUM"
         ],
         "type": "scattergeo"
        }
       ],
       "layout": {
        "geo": {
         "scope": "usa",
         "showland": true
        },
        "template": {
         "data": {
          "bar": [
           {
            "error_x": {
             "color": "#2a3f5f"
            },
            "error_y": {
             "color": "#2a3f5f"
            },
            "marker": {
             "line": {
              "color": "#E5ECF6",
              "width": 0.5
             },
             "pattern": {
              "fillmode": "overlay",
              "size": 10,
              "solidity": 0.2
             }
            },
            "type": "bar"
           }
          ],
          "barpolar": [
           {
            "marker": {
             "line": {
              "color": "#E5ECF6",
              "width": 0.5
             },
             "pattern": {
              "fillmode": "overlay",
              "size": 10,
              "solidity": 0.2
             }
            },
            "type": "barpolar"
           }
          ],
          "carpet": [
           {
            "aaxis": {
             "endlinecolor": "#2a3f5f",
             "gridcolor": "white",
             "linecolor": "white",
             "minorgridcolor": "white",
             "startlinecolor": "#2a3f5f"
            },
            "baxis": {
             "endlinecolor": "#2a3f5f",
             "gridcolor": "white",
             "linecolor": "white",
             "minorgridcolor": "white",
             "startlinecolor": "#2a3f5f"
            },
            "type": "carpet"
           }
          ],
          "choropleth": [
           {
            "colorbar": {
             "outlinewidth": 0,
             "ticks": ""
            },
            "type": "choropleth"
           }
          ],
          "contour": [
           {
            "colorbar": {
             "outlinewidth": 0,
             "ticks": ""
            },
            "colorscale": [
             [
              0,
              "#0d0887"
             ],
             [
              0.1111111111111111,
              "#46039f"
             ],
             [
              0.2222222222222222,
              "#7201a8"
             ],
             [
              0.3333333333333333,
              "#9c179e"
             ],
             [
              0.4444444444444444,
              "#bd3786"
             ],
             [
              0.5555555555555556,
              "#d8576b"
             ],
             [
              0.6666666666666666,
              "#ed7953"
             ],
             [
              0.7777777777777778,
              "#fb9f3a"
             ],
             [
              0.8888888888888888,
              "#fdca26"
             ],
             [
              1,
              "#f0f921"
             ]
            ],
            "type": "contour"
           }
          ],
          "contourcarpet": [
           {
            "colorbar": {
             "outlinewidth": 0,
             "ticks": ""
            },
            "type": "contourcarpet"
           }
          ],
          "heatmap": [
           {
            "colorbar": {
             "outlinewidth": 0,
             "ticks": ""
            },
            "colorscale": [
             [
              0,
              "#0d0887"
             ],
             [
              0.1111111111111111,
              "#46039f"
             ],
             [
              0.2222222222222222,
              "#7201a8"
             ],
             [
              0.3333333333333333,
              "#9c179e"
             ],
             [
              0.4444444444444444,
              "#bd3786"
             ],
             [
              0.5555555555555556,
              "#d8576b"
             ],
             [
              0.6666666666666666,
              "#ed7953"
             ],
             [
              0.7777777777777778,
              "#fb9f3a"
             ],
             [
              0.8888888888888888,
              "#fdca26"
             ],
             [
              1,
              "#f0f921"
             ]
            ],
            "type": "heatmap"
           }
          ],
          "histogram": [
           {
            "marker": {
             "pattern": {
              "fillmode": "overlay",
              "size": 10,
              "solidity": 0.2
             }
            },
            "type": "histogram"
           }
          ],
          "histogram2d": [
           {
            "colorbar": {
             "outlinewidth": 0,
             "ticks": ""
            },
            "colorscale": [
             [
              0,
              "#0d0887"
             ],
             [
              0.1111111111111111,
              "#46039f"
             ],
             [
              0.2222222222222222,
              "#7201a8"
             ],
             [
              0.3333333333333333,
              "#9c179e"
             ],
             [
              0.4444444444444444,
              "#bd3786"
             ],
             [
              0.5555555555555556,
              "#d8576b"
             ],
             [
              0.6666666666666666,
              "#ed7953"
             ],
             [
              0.7777777777777778,
              "#fb9f3a"
             ],
             [
              0.8888888888888888,
              "#fdca26"
             ],
             [
              1,
              "#f0f921"
             ]
            ],
            "type": "histogram2d"
           }
          ],
          "histogram2dcontour": [
           {
            "colorbar": {
             "outlinewidth": 0,
             "ticks": ""
            },
            "colorscale": [
             [
              0,
              "#0d0887"
             ],
             [
              0.1111111111111111,
              "#46039f"
             ],
             [
              0.2222222222222222,
              "#7201a8"
             ],
             [
              0.3333333333333333,
              "#9c179e"
             ],
             [
              0.4444444444444444,
              "#bd3786"
             ],
             [
              0.5555555555555556,
              "#d8576b"
             ],
             [
              0.6666666666666666,
              "#ed7953"
             ],
             [
              0.7777777777777778,
              "#fb9f3a"
             ],
             [
              0.8888888888888888,
              "#fdca26"
             ],
             [
              1,
              "#f0f921"
             ]
            ],
            "type": "histogram2dcontour"
           }
          ],
          "mesh3d": [
           {
            "colorbar": {
             "outlinewidth": 0,
             "ticks": ""
            },
            "type": "mesh3d"
           }
          ],
          "parcoords": [
           {
            "line": {
             "colorbar": {
              "outlinewidth": 0,
              "ticks": ""
             }
            },
            "type": "parcoords"
           }
          ],
          "pie": [
           {
            "automargin": true,
            "type": "pie"
           }
          ],
          "scatter": [
           {
            "fillpattern": {
             "fillmode": "overlay",
             "size": 10,
             "solidity": 0.2
            },
            "type": "scatter"
           }
          ],
          "scatter3d": [
           {
            "line": {
             "colorbar": {
              "outlinewidth": 0,
              "ticks": ""
             }
            },
            "marker": {
             "colorbar": {
              "outlinewidth": 0,
              "ticks": ""
             }
            },
            "type": "scatter3d"
           }
          ],
          "scattercarpet": [
           {
            "marker": {
             "colorbar": {
              "outlinewidth": 0,
              "ticks": ""
             }
            },
            "type": "scattercarpet"
           }
          ],
          "scattergeo": [
           {
            "marker": {
             "colorbar": {
              "outlinewidth": 0,
              "ticks": ""
             }
            },
            "type": "scattergeo"
           }
          ],
          "scattergl": [
           {
            "marker": {
             "colorbar": {
              "outlinewidth": 0,
              "ticks": ""
             }
            },
            "type": "scattergl"
           }
          ],
          "scattermap": [
           {
            "marker": {
             "colorbar": {
              "outlinewidth": 0,
              "ticks": ""
             }
            },
            "type": "scattermap"
           }
          ],
          "scattermapbox": [
           {
            "marker": {
             "colorbar": {
              "outlinewidth": 0,
              "ticks": ""
             }
            },
            "type": "scattermapbox"
           }
          ],
          "scatterpolar": [
           {
            "marker": {
             "colorbar": {
              "outlinewidth": 0,
              "ticks": ""
             }
            },
            "type": "scatterpolar"
           }
          ],
          "scatterpolargl": [
           {
            "marker": {
             "colorbar": {
              "outlinewidth": 0,
              "ticks": ""
             }
            },
            "type": "scatterpolargl"
           }
          ],
          "scatterternary": [
           {
            "marker": {
             "colorbar": {
              "outlinewidth": 0,
              "ticks": ""
             }
            },
            "type": "scatterternary"
           }
          ],
          "surface": [
           {
            "colorbar": {
             "outlinewidth": 0,
             "ticks": ""
            },
            "colorscale": [
             [
              0,
              "#0d0887"
             ],
             [
              0.1111111111111111,
              "#46039f"
             ],
             [
              0.2222222222222222,
              "#7201a8"
             ],
             [
              0.3333333333333333,
              "#9c179e"
             ],
             [
              0.4444444444444444,
              "#bd3786"
             ],
             [
              0.5555555555555556,
              "#d8576b"
             ],
             [
              0.6666666666666666,
              "#ed7953"
             ],
             [
              0.7777777777777778,
              "#fb9f3a"
             ],
             [
              0.8888888888888888,
              "#fdca26"
             ],
             [
              1,
              "#f0f921"
             ]
            ],
            "type": "surface"
           }
          ],
          "table": [
           {
            "cells": {
             "fill": {
              "color": "#EBF0F8"
             },
             "line": {
              "color": "white"
             }
            },
            "header": {
             "fill": {
              "color": "#C8D4E3"
             },
             "line": {
              "color": "white"
             }
            },
            "type": "table"
           }
          ]
         },
         "layout": {
          "annotationdefaults": {
           "arrowcolor": "#2a3f5f",
           "arrowhead": 0,
           "arrowwidth": 1
          },
          "autotypenumbers": "strict",
          "coloraxis": {
           "colorbar": {
            "outlinewidth": 0,
            "ticks": ""
           }
          },
          "colorscale": {
           "diverging": [
            [
             0,
             "#8e0152"
            ],
            [
             0.1,
             "#c51b7d"
            ],
            [
             0.2,
             "#de77ae"
            ],
            [
             0.3,
             "#f1b6da"
            ],
            [
             0.4,
             "#fde0ef"
            ],
            [
             0.5,
             "#f7f7f7"
            ],
            [
             0.6,
             "#e6f5d0"
            ],
            [
             0.7,
             "#b8e186"
            ],
            [
             0.8,
             "#7fbc41"
            ],
            [
             0.9,
             "#4d9221"
            ],
            [
             1,
             "#276419"
            ]
           ],
           "sequential": [
            [
             0,
             "#0d0887"
            ],
            [
             0.1111111111111111,
             "#46039f"
            ],
            [
             0.2222222222222222,
             "#7201a8"
            ],
            [
             0.3333333333333333,
             "#9c179e"
            ],
            [
             0.4444444444444444,
             "#bd3786"
            ],
            [
             0.5555555555555556,
             "#d8576b"
            ],
            [
             0.6666666666666666,
             "#ed7953"
            ],
            [
             0.7777777777777778,
             "#fb9f3a"
            ],
            [
             0.8888888888888888,
             "#fdca26"
            ],
            [
             1,
             "#f0f921"
            ]
           ],
           "sequentialminus": [
            [
             0,
             "#0d0887"
            ],
            [
             0.1111111111111111,
             "#46039f"
            ],
            [
             0.2222222222222222,
             "#7201a8"
            ],
            [
             0.3333333333333333,
             "#9c179e"
            ],
            [
             0.4444444444444444,
             "#bd3786"
            ],
            [
             0.5555555555555556,
             "#d8576b"
            ],
            [
             0.6666666666666666,
             "#ed7953"
            ],
            [
             0.7777777777777778,
             "#fb9f3a"
            ],
            [
             0.8888888888888888,
             "#fdca26"
            ],
            [
             1,
             "#f0f921"
            ]
           ]
          },
          "colorway": [
           "#636efa",
           "#EF553B",
           "#00cc96",
           "#ab63fa",
           "#FFA15A",
           "#19d3f3",
           "#FF6692",
           "#B6E880",
           "#FF97FF",
           "#FECB52"
          ],
          "font": {
           "color": "#2a3f5f"
          },
          "geo": {
           "bgcolor": "white",
           "lakecolor": "white",
           "landcolor": "#E5ECF6",
           "showlakes": true,
           "showland": true,
           "subunitcolor": "white"
          },
          "hoverlabel": {
           "align": "left"
          },
          "hovermode": "closest",
          "mapbox": {
           "style": "light"
          },
          "paper_bgcolor": "white",
          "plot_bgcolor": "#E5ECF6",
          "polar": {
           "angularaxis": {
            "gridcolor": "white",
            "linecolor": "white",
            "ticks": ""
           },
           "bgcolor": "#E5ECF6",
           "radialaxis": {
            "gridcolor": "white",
            "linecolor": "white",
            "ticks": ""
           }
          },
          "scene": {
           "xaxis": {
            "backgroundcolor": "#E5ECF6",
            "gridcolor": "white",
            "gridwidth": 2,
            "linecolor": "white",
            "showbackground": true,
            "ticks": "",
            "zerolinecolor": "white"
           },
           "yaxis": {
            "backgroundcolor": "#E5ECF6",
            "gridcolor": "white",
            "gridwidth": 2,
            "linecolor": "white",
            "showbackground": true,
            "ticks": "",
            "zerolinecolor": "white"
           },
           "zaxis": {
            "backgroundcolor": "#E5ECF6",
            "gridcolor": "white",
            "gridwidth": 2,
            "linecolor": "white",
            "showbackground": true,
            "ticks": "",
            "zerolinecolor": "white"
           }
          },
          "shapedefaults": {
           "line": {
            "color": "#2a3f5f"
           }
          },
          "ternary": {
           "aaxis": {
            "gridcolor": "white",
            "linecolor": "white",
            "ticks": ""
           },
           "baxis": {
            "gridcolor": "white",
            "linecolor": "white",
            "ticks": ""
           },
           "bgcolor": "#E5ECF6",
           "caxis": {
            "gridcolor": "white",
            "linecolor": "white",
            "ticks": ""
           }
          },
          "title": {
           "x": 0.05
          },
          "xaxis": {
           "automargin": true,
           "gridcolor": "white",
           "linecolor": "white",
           "ticks": "",
           "title": {
            "standoff": 15
           },
           "zerolinecolor": "white",
           "zerolinewidth": 2
          },
          "yaxis": {
           "automargin": true,
           "gridcolor": "white",
           "linecolor": "white",
           "ticks": "",
           "title": {
            "standoff": 15
           },
           "zerolinecolor": "white",
           "zerolinewidth": 2
          }
         }
        },
        "title": {
         "text": "US Airports Map"
        }
       }
      }
     },
     "metadata": {},
     "output_type": "display_data"
    }
   ],
   "source": [
    "df = pd.read_csv(\"airports.csv\")\n",
    "fig = go.Figure(\n",
    "    data = go.Scattergeo(\n",
    "        lon = df['LONGITUDE'],\n",
    "        lat = df['LATITUDE'],\n",
    "        text = df['IATA_CODE'],\n",
    "        mode = 'markers',\n",
    "    )\n",
    ")\n",
    "fig.update_layout(\n",
    "    geo=dict(\n",
    "        scope=\"usa\",\n",
    "        showland=True,\n",
    "    ),\n",
    "    title=\"US Airports Map\"\n",
    ")\n",
    "fig"
   ]
  },
  {
   "cell_type": "markdown",
   "metadata": {},
   "source": []
  }
 ],
 "metadata": {
  "kernelspec": {
   "display_name": ".venv",
   "language": "python",
   "name": "python3"
  },
  "language_info": {
   "codemirror_mode": {
    "name": "ipython",
    "version": 3
   },
   "file_extension": ".py",
   "mimetype": "text/x-python",
   "name": "python",
   "nbconvert_exporter": "python",
   "pygments_lexer": "ipython3",
   "version": "3.10.6"
  }
 },
 "nbformat": 4,
 "nbformat_minor": 2
}
