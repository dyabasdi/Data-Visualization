{
 "cells": [
  {
   "cell_type": "markdown",
   "metadata": {},
   "source": [
    "# File: HWK7.ipynb\n",
    "\n",
    "# Description:\n",
    "\n",
    "# Name: Dyab Asdi\n",
    "\n",
    "# UT EID: da32435\n",
    "\n",
    "# Name:\n",
    "\n",
    "# UT EID:\n",
    "\n",
    "# Date:"
   ]
  },
  {
   "cell_type": "markdown",
   "metadata": {},
   "source": []
  }
 ],
 "metadata": {
  "kernelspec": {
   "display_name": ".venv",
   "language": "python",
   "name": "python3"
  },
  "language_info": {
   "name": "python",
   "version": "3.10.6"
  }
 },
 "nbformat": 4,
 "nbformat_minor": 2
}
