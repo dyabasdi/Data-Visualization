{
 "cells": [
  {
   "cell_type": "markdown",
   "metadata": {},
   "source": [
    "# Analysis - EV Market Trend Data"
   ]
  },
  {
   "cell_type": "markdown",
   "metadata": {},
   "source": [
    "##### Dyab Asdi, Evan Xia, Raymond Sun"
   ]
  },
  {
   "cell_type": "code",
   "execution_count": 2,
   "metadata": {},
   "outputs": [],
   "source": [
    "import pandas as pd\n",
    "import numpy as np"
   ]
  },
  {
   "cell_type": "markdown",
   "metadata": {},
   "source": [
    "### Pre-Process Data"
   ]
  },
  {
   "cell_type": "code",
   "execution_count": 7,
   "metadata": {},
   "outputs": [
    {
     "name": "stdout",
     "output_type": "stream",
     "text": [
      "Model Year        2021.0\n",
      "Electric Range       6.0\n",
      "Base MSRP            0.0\n",
      "dtype: float64\n"
     ]
    },
    {
     "data": {
      "text/html": [
       "<div>\n",
       "<style scoped>\n",
       "    .dataframe tbody tr th:only-of-type {\n",
       "        vertical-align: middle;\n",
       "    }\n",
       "\n",
       "    .dataframe tbody tr th {\n",
       "        vertical-align: top;\n",
       "    }\n",
       "\n",
       "    .dataframe thead th {\n",
       "        text-align: right;\n",
       "    }\n",
       "</style>\n",
       "<table border=\"1\" class=\"dataframe\">\n",
       "  <thead>\n",
       "    <tr style=\"text-align: right;\">\n",
       "      <th></th>\n",
       "      <th>Model Year</th>\n",
       "      <th>Electric Range</th>\n",
       "      <th>Base MSRP</th>\n",
       "    </tr>\n",
       "  </thead>\n",
       "  <tbody>\n",
       "    <tr>\n",
       "      <th>count</th>\n",
       "      <td>495346.000000</td>\n",
       "      <td>495319.000000</td>\n",
       "      <td>495319.000000</td>\n",
       "    </tr>\n",
       "    <tr>\n",
       "      <th>mean</th>\n",
       "      <td>2020.409691</td>\n",
       "      <td>62.509219</td>\n",
       "      <td>1183.436422</td>\n",
       "    </tr>\n",
       "    <tr>\n",
       "      <th>std</th>\n",
       "      <td>3.128313</td>\n",
       "      <td>93.822478</td>\n",
       "      <td>8781.132275</td>\n",
       "    </tr>\n",
       "    <tr>\n",
       "      <th>min</th>\n",
       "      <td>1997.000000</td>\n",
       "      <td>0.000000</td>\n",
       "      <td>0.000000</td>\n",
       "    </tr>\n",
       "    <tr>\n",
       "      <th>25%</th>\n",
       "      <td>2018.000000</td>\n",
       "      <td>0.000000</td>\n",
       "      <td>0.000000</td>\n",
       "    </tr>\n",
       "    <tr>\n",
       "      <th>50%</th>\n",
       "      <td>2021.000000</td>\n",
       "      <td>6.000000</td>\n",
       "      <td>0.000000</td>\n",
       "    </tr>\n",
       "    <tr>\n",
       "      <th>75%</th>\n",
       "      <td>2023.000000</td>\n",
       "      <td>84.000000</td>\n",
       "      <td>0.000000</td>\n",
       "    </tr>\n",
       "    <tr>\n",
       "      <th>max</th>\n",
       "      <td>2025.000000</td>\n",
       "      <td>337.000000</td>\n",
       "      <td>845000.000000</td>\n",
       "    </tr>\n",
       "  </tbody>\n",
       "</table>\n",
       "</div>"
      ],
      "text/plain": [
       "          Model Year  Electric Range      Base MSRP\n",
       "count  495346.000000   495319.000000  495319.000000\n",
       "mean     2020.409691       62.509219    1183.436422\n",
       "std         3.128313       93.822478    8781.132275\n",
       "min      1997.000000        0.000000       0.000000\n",
       "25%      2018.000000        0.000000       0.000000\n",
       "50%      2021.000000        6.000000       0.000000\n",
       "75%      2023.000000       84.000000       0.000000\n",
       "max      2025.000000      337.000000  845000.000000"
      ]
     },
     "execution_count": 7,
     "metadata": {},
     "output_type": "execute_result"
    }
   ],
   "source": [
    "# read data\n",
    "df1 = pd.read_csv(\"Electric_Vehicle_Population_Data1.csv\")\n",
    "df2 = pd.read_csv(\"Electric_Vehicle_Population_Data2.csv\")\n",
    "df3 = pd.read_csv(\"Electric_Vehicle_Population_Data3.csv\")\n",
    "\n",
    "df = pd.concat([df1, df2, df3], ignore_index=True)\n",
    "\n",
    "numerical_columns = [\"Model Year\", \"Electric Range\", \"Base MSRP\"]\n",
    "\n",
    "print(df[numerical_columns].median())\n",
    "df[numerical_columns].describe()"
   ]
  },
  {
   "cell_type": "code",
   "execution_count": 10,
   "metadata": {},
   "outputs": [
    {
     "data": {
      "text/plain": [
       "State                                                                                               WA\n",
       "2020 Census Tract                                                                        53033028200.0\n",
       "Legislative District                                                                              41.0\n",
       "Vehicle Location                                                           POINT (-122.13158 47.67858)\n",
       "Clean Alternative Fuel Vehicle (CAFV) Eligibility    Eligibility unknown as battery range has not b...\n",
       "DOL Vehicle ID                                                                                    4777\n",
       "City                                                                                           Seattle\n",
       "Electric Utility                                         PUGET SOUND ENERGY INC||CITY OF TACOMA - (WA)\n",
       "Postal Code                                                                                    98052.0\n",
       "County                                                                                            King\n",
       "Make                                                                                             TESLA\n",
       "Model                                                                                          MODEL Y\n",
       "Electric Vehicle Type                                                   Battery Electric Vehicle (BEV)\n",
       "Name: 0, dtype: object"
      ]
     },
     "execution_count": 10,
     "metadata": {},
     "output_type": "execute_result"
    }
   ],
   "source": [
    "numerical_columns.append(\"VIN (1-10)\")\n",
    "remaining_cols = list(set(df.columns) - set(numerical_columns))\n",
    "df[remaining_cols].mode().iloc[0]\n",
    "# df[remaining_cols].nunique()"
   ]
  },
  {
   "cell_type": "code",
   "execution_count": null,
   "metadata": {},
   "outputs": [],
   "source": []
  }
 ],
 "metadata": {
  "kernelspec": {
   "display_name": ".venv",
   "language": "python",
   "name": "python3"
  },
  "language_info": {
   "codemirror_mode": {
    "name": "ipython",
    "version": 3
   },
   "file_extension": ".py",
   "mimetype": "text/x-python",
   "name": "python",
   "nbconvert_exporter": "python",
   "pygments_lexer": "ipython3",
   "version": "3.10.6"
  }
 },
 "nbformat": 4,
 "nbformat_minor": 2
}
